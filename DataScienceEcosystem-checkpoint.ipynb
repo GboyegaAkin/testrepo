{
 "cells": [
  {
   "cell_type": "markdown",
   "id": "229d8719-bd86-40d7-b2ba-6efcc88d1647",
   "metadata": {},
   "source": [
    "# Data Science Tools and Ecosystem\n",
    "\n",
    "## In this notebook, Data Science Tools and Ecosystem are summarized."
   ]
  },
  {
   "cell_type": "markdown",
   "id": "d33ee310-ec0f-4201-a632-5cd17d90b311",
   "metadata": {},
   "source": [
    "**Objectives:**\n",
    "+ List popular languages for Data Science\n",
    "+ List commonly used libraries for Data Science\n",
    "+ List Data Science tools\n",
    "+ Show examples of arithmetic evaluation in Jupyter Notebooks"
   ]
  },
  {
   "cell_type": "markdown",
   "id": "0a6a2832-885f-4222-8c2b-0f76ed3bc218",
   "metadata": {},
   "source": [
    "### Some of the popular languages that Data Scientists use are:\n",
    "\n",
    "- Python\n",
    "- R Programming\n",
    "- Julia\n",
    "- Scala\n",
    "- Java"
   ]
  },
  {
   "cell_type": "markdown",
   "id": "9257e4c6-2b19-4e41-913d-d913856d6ee7",
   "metadata": {},
   "source": [
    "### Some of the commonly used libraries used by Data Scientists include\n",
    "\n",
    "- Pandas\n",
    "- Tabula\n",
    "- Matplotlib\n",
    "- Tensorflow\n",
    "- Numpy"
   ]
  },
  {
   "cell_type": "markdown",
   "id": "e2ec3611-3c6d-4723-a435-79ba71878aff",
   "metadata": {},
   "source": [
    "### Data Science tools\n",
    "\n",
    "| Data Science Tools |\n",
    "| ------------------ |\n",
    "| Jupyter Notebooks |\n",
    "| Apache Zeppelin |\n",
    "| RStudio |"
   ]
  },
  {
   "cell_type": "markdown",
   "id": "04b00898-b0a8-46c7-a73a-856df0bb6a27",
   "metadata": {},
   "source": [
    "### Below are a few examples of evaluating arithmetic expressions in Python\n"
   ]
  },
  {
   "cell_type": "code",
   "execution_count": 1,
   "id": "f1ae4464-bd56-4152-86bc-d0246794ca6c",
   "metadata": {},
   "outputs": [
    {
     "data": {
      "text/plain": [
       "17"
      ]
     },
     "execution_count": 1,
     "metadata": {},
     "output_type": "execute_result"
    }
   ],
   "source": [
    "(3*4)+5 #This a simple arithmetic expression to mutiply then add integers"
   ]
  },
  {
   "cell_type": "code",
   "execution_count": 5,
   "id": "b7e615b3-ae02-4d07-aa5f-fea27da35bf7",
   "metadata": {
    "scrolled": true
   },
   "outputs": [
    {
     "name": "stdout",
     "output_type": "stream",
     "text": [
      "3.3333333333333335\n"
     ]
    }
   ],
   "source": [
    "mintohours = 200/60 #This will convert 200 minutes to hours by diving by 60\n",
    "print(mintohours)"
   ]
  },
  {
   "cell_type": "markdown",
   "id": "c130bf17-a6e2-42ed-a42a-c33ec0f1eb79",
   "metadata": {},
   "source": [
    "## Author\n",
    "David A. Akinmulewo"
   ]
  }
 ],
 "metadata": {
  "kernelspec": {
   "display_name": "Python 3 (ipykernel)",
   "language": "python",
   "name": "python3"
  },
  "language_info": {
   "codemirror_mode": {
    "name": "ipython",
    "version": 3
   },
   "file_extension": ".py",
   "mimetype": "text/x-python",
   "name": "python",
   "nbconvert_exporter": "python",
   "pygments_lexer": "ipython3",
   "version": "3.12.1"
  }
 },
 "nbformat": 4,
 "nbformat_minor": 5
}
